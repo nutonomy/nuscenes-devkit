{
 "cells": [
  {
   "cell_type": "markdown",
   "metadata": {},
   "source": [
    "# nuScenes prediction tutorial\n",
    "<img src=\"https://www.nuscenes.org/public/tutorials/trajectory.gif\" width=\"300\" align=\"left\">"
   ]
  },
  {
   "cell_type": "markdown",
   "metadata": {},
   "source": [
    "This notebook serves as an introduction to the new functionality added to the nuScenes devkit for the prediction challenge.\n",
    "\n",
    "It is organized into the following sections:\n",
    "\n",
    "1. Data splits for the challenge\n",
    "2. Getting past and future data for an agent \n",
    "3. Changes to the Map API\n",
    "4. Overview of input representation\n",
    "5. Model implementations\n",
    "6. Making a submission to the challenge"
   ]
  },
  {
   "cell_type": "code",
   "execution_count": 4,
   "metadata": {},
   "outputs": [
    {
     "name": "stdout",
     "output_type": "stream",
     "text": [
      "======\n",
      "Loading NuScenes tables for version v1.0-mini...\n",
      "23 category,\n",
      "8 attribute,\n",
      "4 visibility,\n",
      "911 instance,\n",
      "12 sensor,\n",
      "120 calibrated_sensor,\n",
      "31206 ego_pose,\n",
      "8 log,\n",
      "10 scene,\n",
      "404 sample,\n",
      "31206 sample_data,\n",
      "18538 sample_annotation,\n",
      "4 map,\n",
      "Done loading in 0.391 seconds.\n",
      "======\n",
      "Reverse indexing ...\n",
      "Done reverse indexing in 0.1 seconds.\n",
      "======\n",
      "<nuscenes.nuscenes.NuScenes object at 0x7fe7932cf590>\n"
     ]
    }
   ],
   "source": [
    "from nuscenes import NuScenes\n",
    "\n",
    "# import sys\n",
    "# print(sys.path)\n",
    "\n",
    "# This is the path where you stored your copy of the nuScenes dataset.\n",
    "# DATAROOT = '/data/sets/nuscenes'\n",
    "DATAROOT = '/home/shao/Documents/GitHub/data/nuScenes/v1.0-mini'#设置数据所在根目录\n",
    "\n",
    "nuscenes = NuScenes('v1.0-mini', dataroot=DATAROOT)#DATAROOT为该小型数据集塑所在根目录\n",
    "print(nuscenes)# 输出该数据集的属性"
   ]
  },
  {
   "cell_type": "markdown",
   "metadata": {},
   "source": [
    "## 1. Data Splits for the Prediction Challenge\n",
    "\n",
    "This section assumes basic familiarity with the nuScenes [schema](https://www.nuscenes.org/nuscenes#data-format).\n",
    "\n",
    "The goal of the nuScenes prediction challenge is to predict the future location of agents in the nuScenes dataset. Agents are indexed by an instance token and a sample token. To get a list of agents in the train and val split of the challenge, we provide a function called `get_prediction_challenge_split`.\n",
    "\n",
    "The get_prediction_challenge_split function returns a list of strings of the form {instance_token}_{sample_token}. In the next section, we show how to use an instance token and sample token to query data for the prediction challenge."
   ]
  },
  {
   "cell_type": "code",
   "execution_count": 5,
   "metadata": {},
   "outputs": [
    {
     "data": {
      "text/plain": [
       "['bc38961ca0ac4b14ab90e547ba79fbb6_39586f9d59004284a7114a68825e8eec',\n",
       " 'bc38961ca0ac4b14ab90e547ba79fbb6_356d81f38dd9473ba590f39e266f54e5',\n",
       " 'bc38961ca0ac4b14ab90e547ba79fbb6_e0845f5322254dafadbbed75aaa07969',\n",
       " 'bc38961ca0ac4b14ab90e547ba79fbb6_c923fe08b2ff4e27975d2bf30934383b',\n",
       " 'bc38961ca0ac4b14ab90e547ba79fbb6_f1e3d9d08f044c439ce86a2d6fcca57b']"
      ]
     },
     "execution_count": 5,
     "metadata": {},
     "output_type": "execute_result"
    }
   ],
   "source": [
    "from nuscenes.eval.prediction.splits import get_prediction_challenge_split #提供了一个get_prediction_challenge_split函数用于数据集分割\n",
    "mini_train = get_prediction_challenge_split(\"mini_train\", dataroot=DATAROOT)#获取两个token\n",
    "mini_train[:5]# 训练集前5个实例_样本的token"
   ]
  },
  {
   "cell_type": "markdown",
   "metadata": {},
   "source": [
    "## 2. Getting past and future data for an agent\n",
    "\n",
    "We provide a class called `PredictHelper` that provides methods for querying past and future data for an agent. This class is instantiated by wrapping an instance of the `NuScenes` class. "
   ]
  },
  {
   "cell_type": "code",
   "execution_count": 6,
   "metadata": {},
   "outputs": [],
   "source": [
    "from nuscenes.prediction import PredictHelper#这个类用于查询agent的过去和未来数据\n",
    "helper = PredictHelper(nuscenes)#用PredictHelper来包装nuscenes这个实例"
   ]
  },
  {
   "cell_type": "markdown",
   "metadata": {},
   "source": [
    "To get the data for an agent at a particular point in time, use the `get_sample_annotation` method."
   ]
  },
  {
   "cell_type": "code",
   "execution_count": 7,
   "metadata": {},
   "outputs": [
    {
     "data": {
      "text/plain": [
       "{'token': 'a286c9633fa34da5b978758f348996b0',\n",
       " 'sample_token': '39586f9d59004284a7114a68825e8eec',\n",
       " 'instance_token': 'bc38961ca0ac4b14ab90e547ba79fbb6',\n",
       " 'visibility_token': '4',\n",
       " 'attribute_tokens': ['cb5118da1ab342aa947717dc53544259'],\n",
       " 'translation': [392.945, 1148.426, 0.766],\n",
       " 'size': [1.708, 4.01, 1.631],\n",
       " 'rotation': [-0.5443682117180475, 0.0, 0.0, 0.8388463804957943],\n",
       " 'prev': '16140fbf143d4e26a4a7613cbd3aa0e8',\n",
       " 'next': 'b41e15b89fd44709b439de95dd723617',\n",
       " 'num_lidar_pts': 0,\n",
       " 'num_radar_pts': 0,\n",
       " 'category_name': 'vehicle.car'}"
      ]
     },
     "execution_count": 7,
     "metadata": {},
     "output_type": "execute_result"
    }
   ],
   "source": [
    "instance_token, sample_token = mini_train[0].split(\"_\")#在特定时间点获取agent的数据\n",
    "annotation = helper.get_sample_annotation(instance_token, sample_token)#在特定时间点（由实例和样本共同确定）获取agent的数据\n",
    "annotation#获取注释"
   ]
  },
  {
   "cell_type": "markdown",
   "metadata": {},
   "source": [
    "To get the future/past of an agent, use the `get_past_for_agent`/`get_future_for_agent` methods. If the `in_agent_frame` parameter is set to true, the coordinates will be in the agent's local coordinate frame. Otherwise, they will be in the global frame."
   ]
  },
  {
   "cell_type": "code",
   "execution_count": 8,
   "metadata": {},
   "outputs": [
    {
     "data": {
      "text/plain": [
       "array([[ 0.01075063,  0.2434942 ],\n",
       "       [-0.20463666,  1.20515386],\n",
       "       [-0.20398583,  2.57851309],\n",
       "       [-0.25867757,  4.50313379],\n",
       "       [-0.31359088,  6.67620961],\n",
       "       [-0.31404147,  9.67727022]])"
      ]
     },
     "execution_count": 8,
     "metadata": {},
     "output_type": "execute_result"
    }
   ],
   "source": [
    "future_xy_local = helper.get_future_for_agent(instance_token, sample_token, seconds=3, in_agent_frame=True)#获取agent的未来3s轨迹\n",
    "future_xy_local#局部坐标系"
   ]
  },
  {
   "cell_type": "markdown",
   "metadata": {},
   "source": [
    "The agent's coordinate frame is centered on the agent's current location and the agent's heading is aligned with the positive y axis. For example, the last coordinate in `future_xy_local` corresponds to a location 0.31 meters to the left and 9.67 meters in front of the agents starting location."
   ]
  },
  {
   "cell_type": "code",
   "execution_count": 9,
   "metadata": {},
   "outputs": [
    {
     "data": {
      "text/plain": [
       "array([[ 392.836, 1148.208],\n",
       "       [ 392.641, 1147.242],\n",
       "       [ 392.081, 1145.988],\n",
       "       [ 391.347, 1144.208],\n",
       "       [ 390.512, 1142.201],\n",
       "       [ 389.29 , 1139.46 ]])"
      ]
     },
     "execution_count": 9,
     "metadata": {},
     "output_type": "execute_result"
    }
   ],
   "source": [
    "future_xy_global = helper.get_future_for_agent(instance_token, sample_token, seconds=3, in_agent_frame=False)\n",
    "future_xy_global#全局坐标系"
   ]
  },
  {
   "cell_type": "markdown",
   "metadata": {},
   "source": [
    "Note that you can also return the entire annotation record by passing `just_xy=False`. However in this case, `in_agent_frame` is not taken into account."
   ]
  },
  {
   "cell_type": "code",
   "execution_count": 10,
   "metadata": {
    "scrolled": true
   },
   "outputs": [
    {
     "data": {
      "text/plain": [
       "[{'token': 'b41e15b89fd44709b439de95dd723617',\n",
       "  'sample_token': '356d81f38dd9473ba590f39e266f54e5',\n",
       "  'instance_token': 'bc38961ca0ac4b14ab90e547ba79fbb6',\n",
       "  'visibility_token': '4',\n",
       "  'attribute_tokens': ['cb5118da1ab342aa947717dc53544259'],\n",
       "  'translation': [392.836, 1148.208, 0.791],\n",
       "  'size': [1.708, 4.01, 1.631],\n",
       "  'rotation': [-0.5443682117180475, 0.0, 0.0, 0.8388463804957943],\n",
       "  'prev': 'a286c9633fa34da5b978758f348996b0',\n",
       "  'next': 'b2b43ef63f5242b2a4c0b794e673782d',\n",
       "  'num_lidar_pts': 10,\n",
       "  'num_radar_pts': 2,\n",
       "  'category_name': 'vehicle.car'},\n",
       " {'token': 'b2b43ef63f5242b2a4c0b794e673782d',\n",
       "  'sample_token': 'e0845f5322254dafadbbed75aaa07969',\n",
       "  'instance_token': 'bc38961ca0ac4b14ab90e547ba79fbb6',\n",
       "  'visibility_token': '4',\n",
       "  'attribute_tokens': ['cb5118da1ab342aa947717dc53544259'],\n",
       "  'translation': [392.641, 1147.242, 0.816],\n",
       "  'size': [1.708, 4.01, 1.631],\n",
       "  'rotation': [-0.5443682117180475, 0.0, 0.0, 0.8388463804957943],\n",
       "  'prev': 'b41e15b89fd44709b439de95dd723617',\n",
       "  'next': '7bcf4bc87bf143588230254034eada12',\n",
       "  'num_lidar_pts': 13,\n",
       "  'num_radar_pts': 3,\n",
       "  'category_name': 'vehicle.car'},\n",
       " {'token': '7bcf4bc87bf143588230254034eada12',\n",
       "  'sample_token': 'c923fe08b2ff4e27975d2bf30934383b',\n",
       "  'instance_token': 'bc38961ca0ac4b14ab90e547ba79fbb6',\n",
       "  'visibility_token': '4',\n",
       "  'attribute_tokens': ['cb5118da1ab342aa947717dc53544259'],\n",
       "  'translation': [392.081, 1145.988, 0.841],\n",
       "  'size': [1.708, 4.01, 1.631],\n",
       "  'rotation': [-0.5443682117180475, 0.0, 0.0, 0.8388463804957943],\n",
       "  'prev': 'b2b43ef63f5242b2a4c0b794e673782d',\n",
       "  'next': '247a25c59f914adabee9460bd8307196',\n",
       "  'num_lidar_pts': 18,\n",
       "  'num_radar_pts': 3,\n",
       "  'category_name': 'vehicle.car'},\n",
       " {'token': '247a25c59f914adabee9460bd8307196',\n",
       "  'sample_token': 'f1e3d9d08f044c439ce86a2d6fcca57b',\n",
       "  'instance_token': 'bc38961ca0ac4b14ab90e547ba79fbb6',\n",
       "  'visibility_token': '4',\n",
       "  'attribute_tokens': ['cb5118da1ab342aa947717dc53544259'],\n",
       "  'translation': [391.347, 1144.208, 0.841],\n",
       "  'size': [1.708, 4.01, 1.631],\n",
       "  'rotation': [-0.5443682117180475, 0.0, 0.0, 0.8388463804957943],\n",
       "  'prev': '7bcf4bc87bf143588230254034eada12',\n",
       "  'next': 'e25b9e7019814d53876ff2697df7a2de',\n",
       "  'num_lidar_pts': 20,\n",
       "  'num_radar_pts': 4,\n",
       "  'category_name': 'vehicle.car'},\n",
       " {'token': 'e25b9e7019814d53876ff2697df7a2de',\n",
       "  'sample_token': '4f545737bf3347fbbc9af60b0be9a963',\n",
       "  'instance_token': 'bc38961ca0ac4b14ab90e547ba79fbb6',\n",
       "  'visibility_token': '4',\n",
       "  'attribute_tokens': ['cb5118da1ab342aa947717dc53544259'],\n",
       "  'translation': [390.512, 1142.201, 0.891],\n",
       "  'size': [1.708, 4.01, 1.631],\n",
       "  'rotation': [-0.5443682117180475, 0.0, 0.0, 0.8388463804957943],\n",
       "  'prev': '247a25c59f914adabee9460bd8307196',\n",
       "  'next': 'fe33c018573e4abda3ff8de0566ee800',\n",
       "  'num_lidar_pts': 24,\n",
       "  'num_radar_pts': 2,\n",
       "  'category_name': 'vehicle.car'},\n",
       " {'token': 'fe33c018573e4abda3ff8de0566ee800',\n",
       "  'sample_token': '7626dde27d604ac28a0240bdd54eba7a',\n",
       "  'instance_token': 'bc38961ca0ac4b14ab90e547ba79fbb6',\n",
       "  'visibility_token': '4',\n",
       "  'attribute_tokens': ['cb5118da1ab342aa947717dc53544259'],\n",
       "  'translation': [389.29, 1139.46, 0.941],\n",
       "  'size': [1.708, 4.01, 1.631],\n",
       "  'rotation': [-0.5443682117180475, 0.0, 0.0, 0.8388463804957943],\n",
       "  'prev': 'e25b9e7019814d53876ff2697df7a2de',\n",
       "  'next': '2c1a8ae13d76498c838a1fb733ff8700',\n",
       "  'num_lidar_pts': 30,\n",
       "  'num_radar_pts': 2,\n",
       "  'category_name': 'vehicle.car'}]"
      ]
     },
     "execution_count": 10,
     "metadata": {},
     "output_type": "execute_result"
    }
   ],
   "source": [
    "helper.get_future_for_agent(instance_token, sample_token, seconds=3, in_agent_frame=True, just_xy=False)#返回未来3s全部注释"
   ]
  },
  {
   "cell_type": "markdown",
   "metadata": {},
   "source": [
    "If you would like to return the data for the entire sample, as opposed to one agent in the sample, you can use the `get_annotations_for_sample` method. This will return a list of records for each annotated agent in the sample."
   ]
  },
  {
   "cell_type": "code",
   "execution_count": 11,
   "metadata": {},
   "outputs": [
    {
     "data": {
      "text/plain": [
       "78"
      ]
     },
     "execution_count": 11,
     "metadata": {},
     "output_type": "execute_result"
    }
   ],
   "source": [
    "sample = helper.get_annotations_for_sample(sample_token)#返回整个样本的数据（包含其中所有agent）\n",
    "len(sample)"
   ]
  },
  {
   "cell_type": "markdown",
   "metadata": {},
   "source": [
    "Note that there are `get_future_for_sample` and `get_past_for_sample` methods that are analogous to the `get_future_for_agent` and `get_past_for_agent` methods.\n",
    "\n",
    "We also provide methods to compute the velocity, acceleration, and heading change rate of an agent at a given point in time"
   ]
  },
  {
   "cell_type": "code",
   "execution_count": 12,
   "metadata": {},
   "outputs": [
    {
     "name": "stdout",
     "output_type": "stream",
     "text": [
      "Velocity: 4.385040264738063\n",
      "\n",
      "Acceleration: 0.30576530453207523\n",
      "\n",
      "Heading Change Rate: 0.0\n"
     ]
    }
   ],
   "source": [
    "# We get new instance and sample tokens because these methods require computing the difference between records.\n",
    "instance_token_2, sample_token_2 = mini_train[5].split(\"_\")#获取两个token\n",
    "\n",
    "#下面计算特定时刻点特定实例的速度、加速度和航向变化率\n",
    "# Meters / second.\n",
    "print(f\"Velocity: {helper.get_velocity_for_agent(instance_token_2, sample_token_2)}\\n\")\n",
    "# print(f\"Velocity: {helper.get_velocity_for_agent(instance_token, sample_token)}\\n\")\n",
    "\n",
    "# Meters / second^2.\n",
    "print(f\"Acceleration: {helper.get_acceleration_for_agent(instance_token_2, sample_token_2)}\\n\")\n",
    "\n",
    "# Radians / second.\n",
    "print(f\"Heading Change Rate: {helper.get_heading_change_rate_for_agent(instance_token_2, sample_token_2)}\")"
   ]
  },
  {
   "cell_type": "markdown",
   "metadata": {},
   "source": [
    "## Changes to the Map API\n",
    "\n",
    "We've added a couple of methods to the Map API to help query lane center line information."
   ]
  },
  {
   "cell_type": "code",
   "execution_count": 13,
   "metadata": {},
   "outputs": [],
   "source": [
    "from nuscenes.map_expansion.map_api import NuScenesMap\n",
    "nusc_map = NuScenesMap(map_name='singapore-onenorth', dataroot=DATAROOT)#针对其中一个地图"
   ]
  },
  {
   "cell_type": "markdown",
   "metadata": {},
   "source": [
    "To get the closest lane to a location, use the `get_closest_lane` method. To see the internal data representation of the lane, use the `get_lane_record` method. \n",
    "You can also explore the connectivity of the lanes, with the `get_outgoing_lanes` and `get_incoming_lane` methods."
   ]
  },
  {
   "cell_type": "code",
   "execution_count": 14,
   "metadata": {},
   "outputs": [
    {
     "data": {
      "text/plain": [
       "'5933500a-f0f2-4d69-9bbc-83b875e4a73e'"
      ]
     },
     "execution_count": 14,
     "metadata": {},
     "output_type": "execute_result"
    }
   ],
   "source": [
    "x, y, yaw = 395, 1095, 0\n",
    "closest_lane = nusc_map.get_closest_lane(x, y, radius=2)#获取距离某个位置最近的车道\n",
    "closest_lane"
   ]
  },
  {
   "cell_type": "code",
   "execution_count": 15,
   "metadata": {},
   "outputs": [
    {
     "data": {
      "text/plain": [
       "[{'start_pose': [421.2419602954602, 1087.9127960414617, 2.739593514975998],\n",
       "  'end_pose': [391.7142849867393, 1100.464077182952, 2.7365754617298705],\n",
       "  'shape': 'LSR',\n",
       "  'radius': 999.999,\n",
       "  'segment_length': [0.23651121617864976,\n",
       "   28.593481378991886,\n",
       "   3.254561444252876]}]"
      ]
     },
     "execution_count": 15,
     "metadata": {},
     "output_type": "execute_result"
    }
   ],
   "source": [
    "lane_record = nusc_map.get_arcline_path(closest_lane)#查看车道内部数据表示\n",
    "lane_record"
   ]
  },
  {
   "cell_type": "code",
   "execution_count": 16,
   "metadata": {},
   "outputs": [
    {
     "data": {
      "text/plain": [
       "['f24a067b-d650-47d0-8664-039d648d7c0d']"
      ]
     },
     "execution_count": 16,
     "metadata": {},
     "output_type": "execute_result"
    }
   ],
   "source": [
    "nusc_map.get_incoming_lane_ids(closest_lane)#获取进入的车道？"
   ]
  },
  {
   "cell_type": "code",
   "execution_count": 17,
   "metadata": {},
   "outputs": [
    {
     "data": {
      "text/plain": [
       "['0282d0e3-b6bf-4bcd-be24-35c9ce4c6591',\n",
       " '28d15254-0ef9-48c3-9e06-dc5a25b31127']"
      ]
     },
     "execution_count": 17,
     "metadata": {},
     "output_type": "execute_result"
    }
   ],
   "source": [
    "nusc_map.get_outgoing_lane_ids(closest_lane)#获取驶出的车道？（这里有两个）"
   ]
  },
  {
   "cell_type": "markdown",
   "metadata": {},
   "source": [
    "To help manipulate the lanes, we've added an `arcline_path_utils` module. For example, something you might want to do is discretize a lane into a sequence of poses."
   ]
  },
  {
   "cell_type": "code",
   "execution_count": 18,
   "metadata": {},
   "outputs": [
    {
     "data": {
      "text/plain": [
       "[(421.2419602954602, 1087.9127960414617, 2.739593514975998),\n",
       " (420.34712994585345, 1088.2930152148274, 2.739830026428688),\n",
       " (419.45228865726136, 1088.6732086473173, 2.739830026428688),\n",
       " (418.5574473686693, 1089.0534020798073, 2.739830026428688),\n",
       " (417.66260608007724, 1089.433595512297, 2.739830026428688),\n",
       " (416.76776479148515, 1089.813788944787, 2.739830026428688),\n",
       " (415.87292350289306, 1090.1939823772768, 2.739830026428688),\n",
       " (414.97808221430097, 1090.5741758097668, 2.739830026428688),\n",
       " (414.0832409257089, 1090.9543692422567, 2.739830026428688),\n",
       " (413.1883996371168, 1091.3345626747464, 2.739830026428688),\n",
       " (412.29355834852475, 1091.7147561072363, 2.739830026428688),\n",
       " (411.39871705993266, 1092.0949495397263, 2.739830026428688),\n",
       " (410.5038757713406, 1092.4751429722162, 2.739830026428688),\n",
       " (409.6090344827485, 1092.8553364047061, 2.739830026428688),\n",
       " (408.7141931941564, 1093.2355298371958, 2.739830026428688),\n",
       " (407.81935190556436, 1093.6157232696858, 2.739830026428688),\n",
       " (406.92451061697227, 1093.9959167021757, 2.739830026428688),\n",
       " (406.0296693283802, 1094.3761101346656, 2.739830026428688),\n",
       " (405.1348280397881, 1094.7563035671556, 2.739830026428688),\n",
       " (404.239986751196, 1095.1364969996453, 2.739830026428688),\n",
       " (403.3451454626039, 1095.5166904321352, 2.739830026428688),\n",
       " (402.4503041740119, 1095.8968838646251, 2.739830026428688),\n",
       " (401.5554628854198, 1096.277077297115, 2.739830026428688),\n",
       " (400.6606215968277, 1096.657270729605, 2.739830026428688),\n",
       " (399.7657803082356, 1097.0374641620947, 2.739830026428688),\n",
       " (398.8709390196435, 1097.4176575945846, 2.739830026428688),\n",
       " (397.9760977310515, 1097.7978510270746, 2.739830026428688),\n",
       " (397.0812564424594, 1098.1780444595645, 2.739830026428688),\n",
       " (396.1864151538673, 1098.5582378920544, 2.739830026428688),\n",
       " (395.2915738652752, 1098.9384313245444, 2.739830026428688),\n",
       " (394.3967548911081, 1099.318677260896, 2.739492242286598),\n",
       " (393.5022271882191, 1099.69960782173, 2.738519982101022),\n",
       " (392.60807027168346, 1100.0814079160527, 2.737547721915446),\n",
       " (391.71428498673856, 1100.4640771829522, 2.7365754617298705)]"
      ]
     },
     "execution_count": 18,
     "metadata": {},
     "output_type": "execute_result"
    }
   ],
   "source": [
    "from nuscenes.map_expansion import arcline_path_utils\n",
    "poses = arcline_path_utils.discretize_lane(lane_record, resolution_meters=1)#将一个车到离散为一系列姿态\n",
    "poses"
   ]
  },
  {
   "cell_type": "markdown",
   "metadata": {},
   "source": [
    "Given a query pose, you can also find the closest pose on a lane."
   ]
  },
  {
   "cell_type": "code",
   "execution_count": 19,
   "metadata": {},
   "outputs": [],
   "source": [
    "closest_pose_on_lane, distance_along_lane = arcline_path_utils.project_pose_to_lane((x, y, yaw), lane_record)#给定查询姿态，可以获取车道上最近的姿态"
   ]
  },
  {
   "cell_type": "code",
   "execution_count": 20,
   "metadata": {},
   "outputs": [
    {
     "name": "stdout",
     "output_type": "stream",
     "text": [
      "395 1095 0\n"
     ]
    },
    {
     "data": {
      "text/plain": [
       "(396.25524909914367, 1098.5289922434013, 2.739830026428688)"
      ]
     },
     "execution_count": 20,
     "metadata": {},
     "output_type": "execute_result"
    }
   ],
   "source": [
    "print(x, y, yaw)\n",
    "closest_pose_on_lane#车道上最近的姿态点"
   ]
  },
  {
   "cell_type": "code",
   "execution_count": 21,
   "metadata": {},
   "outputs": [
    {
     "data": {
      "text/plain": [
       "27.5"
      ]
     },
     "execution_count": 21,
     "metadata": {},
     "output_type": "execute_result"
    }
   ],
   "source": [
    "# Meters.\n",
    "distance_along_lane#沿车道距离"
   ]
  },
  {
   "cell_type": "markdown",
   "metadata": {},
   "source": [
    "To find the entire length of the lane, you can use the `length_of_lane` function."
   ]
  },
  {
   "cell_type": "code",
   "execution_count": 22,
   "metadata": {},
   "outputs": [
    {
     "data": {
      "text/plain": [
       "32.08455403942341"
      ]
     },
     "execution_count": 22,
     "metadata": {},
     "output_type": "execute_result"
    }
   ],
   "source": [
    "arcline_path_utils.length_of_lane(lane_record)#获取车道长度"
   ]
  },
  {
   "cell_type": "markdown",
   "metadata": {},
   "source": [
    "You can also compute the curvature of a lane at a given distance along the lane."
   ]
  },
  {
   "cell_type": "code",
   "execution_count": 23,
   "metadata": {},
   "outputs": [
    {
     "data": {
      "text/plain": [
       "0"
      ]
     },
     "execution_count": 23,
     "metadata": {},
     "output_type": "execute_result"
    }
   ],
   "source": [
    "# 0 means it is a straight lane.\n",
    "arcline_path_utils.get_curvature_at_distance_along_lane(distance_along_lane, lane_record)#计算沿车道给定距离的车道曲率"
   ]
  },
  {
   "cell_type": "markdown",
   "metadata": {},
   "source": [
    "## 4. Input Representation\n",
    "\n",
    "It is common in the prediction literature to represent the state of an agent as a tensor containing information about the semantic map (such as the drivable area and walkways), as well the past locations of surrounding agents.\n",
    "\n",
    "Each paper in the field chooses to represent the input in a slightly different way. For example, [CoverNet](https://arxiv.org/pdf/1911.10298.pdf) and [MTP](https://arxiv.org/pdf/1808.05819.pdf) choose to rasterize the map information and agent locations into a three channel RGB image. But [Rules of the Road](http://openaccess.thecvf.com/content_CVPR_2019/papers/Hong_Rules_of_the_Road_Predicting_Driving_Behavior_With_a_Convolutional_CVPR_2019_paper.pdf) decides to use a \"taller\" tensor with information represented in different channels.\n",
    "\n",
    "We provide a module called `input_representation` that is meant to make it easy for you to define your own input representation. In short, you need to define your own `StaticLayerRepresentation`, `AgentRepresentation`, and `Combinator`.\n",
    "\n",
    "The `StaticLayerRepresentation` controls how the static map information is represented. The `AgentRepresentation` controls how the locations of the agents in the scene are represented. The `Combinator` controls how these two sources of information are combined into a single tensor.\n",
    "\n",
    "For more information, consult `input_representation/interface.py`.\n",
    "\n",
    "To help get you started, we've provided implementations of input representation used in CoverNet and MTP."
   ]
  },
  {
   "cell_type": "code",
   "execution_count": 24,
   "metadata": {},
   "outputs": [
    {
     "data": {
      "text/plain": [
       "<matplotlib.image.AxesImage at 0x7fe792fe3990>"
      ]
     },
     "execution_count": 24,
     "metadata": {},
     "output_type": "execute_result"
    },
    {
     "data": {
      "image/png": "[encoded data removed]",
      "text/plain": [
       "<Figure size 432x288 with 1 Axes>"
      ]
     },
     "metadata": {
      "needs_background": "light"
     },
     "output_type": "display_data"
    }
   ],
   "source": [
    "#需要自己配置地图的表示形式，包括静态层、agent层和联合器，这里提供了CoverNet和MTP的输入形式\n",
    "import matplotlib.pyplot as plt\n",
    "%matplotlib inline\n",
    "\n",
    "from nuscenes.prediction.input_representation.static_layers import StaticLayerRasterizer\n",
    "from nuscenes.prediction.input_representation.agents import AgentBoxesWithFadedHistory\n",
    "from nuscenes.prediction.input_representation.interface import InputRepresentation\n",
    "from nuscenes.prediction.input_representation.combinators import Rasterizer\n",
    "\n",
    "static_layer_rasterizer = StaticLayerRasterizer(helper)\n",
    "agent_rasterizer = AgentBoxesWithFadedHistory(helper, seconds_of_history=1)#这里的地图包含了过去1s（2帧）的agent轨迹，但好像只有下面三个agent显示了，可能是因为其他车是静止状态\n",
    "mtp_input_representation = InputRepresentation(static_layer_rasterizer, agent_rasterizer, Rasterizer())\n",
    "\n",
    "instance_token_img, sample_token_img = 'bc38961ca0ac4b14ab90e547ba79fbb6', '7626dde27d604ac28a0240bdd54eba7a'\n",
    "anns = [ann for ann in nuscenes.sample_annotation if ann['instance_token'] == instance_token_img]#这句后面没用到？\n",
    "img = mtp_input_representation.make_input_representation(instance_token_img, sample_token_img)#获取给定的输入表示(根据实例和样本token)\n",
    "# img = mtp_input_representation.make_input_representation(instance_token_2, sample_token_2)#获取给定的输入表示？\n",
    "\n",
    "\n",
    "plt.imshow(img)#下面预测网络的第一个输入（CNN处理）：地图信息"
   ]
  },
  {
   "cell_type": "markdown",
   "metadata": {},
   "source": [
    "## Model Implementations\n",
    "\n",
    "We've provided PyTorch implementations for CoverNet and MTP. Below we show, how to make predictions on the previously created input representation."
   ]
  },
  {
   "cell_type": "code",
   "execution_count": 25,
   "metadata": {},
   "outputs": [],
   "source": [
    "from nuscenes.prediction.models.backbone import ResNetBackbone\n",
    "from nuscenes.prediction.models.mtp import MTP#MTP方法实现\n",
    "from nuscenes.prediction.models.covernet import CoverNet#CoverNet方法实现\n",
    "import torch"
   ]
  },
  {
   "cell_type": "markdown",
   "metadata": {},
   "source": [
    "Both models take a CNN backbone as a parameter. We've provided wrappers for ResNet and MobileNet v2. In this example, we'll use ResNet50."
   ]
  },
  {
   "cell_type": "code",
   "execution_count": 26,
   "metadata": {},
   "outputs": [
    {
     "name": "stderr",
     "output_type": "stream",
     "text": [
      "/home/shao/Downloads/yes/envs/nuscenes/lib/python3.7/site-packages/torch/nn/functional.py:718: UserWarning: Named tensors and all their associated APIs are an experimental feature and subject to change. Please do not use them for anything important until they are released as stable. (Triggered internally at  /pytorch/c10/core/TensorImpl.h:1156.)\n",
      "  return torch.max_pool2d(input, kernel_size, stride, padding, dilation, ceil_mode)\n"
     ]
    }
   ],
   "source": [
    "backbone = ResNetBackbone('resnet50')\n",
    "mtp = MTP(backbone, num_modes=2)\n",
    "\n",
    "# Note that the value of num_modes depends on the size of the lattice used for CoverNet.\n",
    "covernet = CoverNet(backbone, num_modes=64)#num_modes取决于CoverNet使用个字大小"
   ]
  },
  {
   "cell_type": "markdown",
   "metadata": {},
   "source": [
    "The second input is a tensor containing the velocity, acceleration, and heading change rate for the agent."
   ]
  },
  {
   "cell_type": "code",
   "execution_count": 27,
   "metadata": {},
   "outputs": [
    {
     "name": "stdout",
     "output_type": "stream",
     "text": [
      "tensor([[5.4546, 1.9441, 0.0000]])\n"
     ]
    }
   ],
   "source": [
    "agent_state_vector = torch.Tensor([[helper.get_velocity_for_agent(instance_token_img, sample_token_img),\n",
    "                                    helper.get_acceleration_for_agent(instance_token_img, sample_token_img),\n",
    "                                    helper.get_heading_change_rate_for_agent(instance_token_img, sample_token_img)]])#第二个输入是速度、加速度、航向变化率的张量\n",
    "\n",
    "print(agent_state_vector)#好像这里只给出了当前时刻的速度、加速度、航向变化率的张量值，并未输入过去轨迹"
   ]
  },
  {
   "cell_type": "code",
   "execution_count": 28,
   "metadata": {},
   "outputs": [
    {
     "name": "stdout",
     "output_type": "stream",
     "text": [
      "torch.Size([1, 3, 500, 500])\n"
     ]
    }
   ],
   "source": [
    "image_tensor = torch.Tensor(img).permute(2, 0, 1).unsqueeze(0)#对第一个输入的处理\n",
    "print(image_tensor.shape)#三通道"
   ]
  },
  {
   "cell_type": "code",
   "execution_count": 29,
   "metadata": {},
   "outputs": [
    {
     "data": {
      "text/plain": [
       "tensor([[-0.1655,  0.3046, -0.1158,  0.0632, -0.6670,  0.1019,  0.2573,  0.1292,\n",
       "          0.3020, -0.0037,  0.1364, -0.4004, -0.1772, -0.5149,  0.2085, -0.3182,\n",
       "         -0.0787, -0.1280, -0.5750,  0.0900, -0.3637,  0.5619,  0.2311, -0.1708,\n",
       "         -0.3112, -0.5419, -0.3556, -0.3287, -0.6196, -0.3918,  0.2615, -0.5489,\n",
       "          0.2876, -0.0378, -0.1023, -0.0286,  0.4017, -0.1302,  0.1445, -0.1681,\n",
       "          0.6092, -0.0097,  0.3886, -0.3146,  0.3200, -0.1658, -0.3805,  0.0717,\n",
       "          0.3113, -0.0080]], grad_fn=<CatBackward>)"
      ]
     },
     "execution_count": 29,
     "metadata": {},
     "output_type": "execute_result"
    }
   ],
   "source": [
    "# Output has 50 entries.\n",
    "# The first 24 are x,y coordinates (in the agent frame) over the next 6 seconds at 2 Hz for the first mode.\n",
    "# The second 24 are the x,y coordinates for the second mode.\n",
    "# The last 2 are the logits of the mode probabilities\n",
    "mtp(image_tensor, agent_state_vector)#利用mtp预测，两种模态（包含坐标和概率），但输入是当前时刻agent和地图，地图包含了1s的过去轨迹，其他就无了"
   ]
  },
  {
   "cell_type": "code",
   "execution_count": 30,
   "metadata": {},
   "outputs": [
    {
     "name": "stdout",
     "output_type": "stream",
     "text": [
      "tensor([[-0.0438, -0.5607,  0.0557,  0.1523, -0.3995, -0.2363, -0.0812, -0.0421,\n",
      "         -0.0810,  0.0597,  0.8073, -0.0273, -0.0798, -0.1868,  0.6208, -0.2644,\n",
      "         -0.3327, -0.3560, -0.5766,  0.4962, -0.3350,  0.0434, -0.0681,  0.1961,\n",
      "         -0.0246,  0.4075,  0.1759,  0.0044,  0.1054,  0.1231,  0.1475,  0.2685,\n",
      "         -0.5537,  0.4739,  0.2212,  0.7799, -0.8788,  0.5740,  0.1218,  0.1419,\n",
      "         -0.2890, -0.2720,  0.0764, -0.3546, -0.1976,  0.2737,  0.3669,  0.0349,\n",
      "         -0.5036, -0.4047,  0.4306,  0.1160, -0.1887, -0.4775, -0.1670,  0.1396,\n",
      "          0.1521, -0.3669,  0.2325, -0.0026, -0.8821, -0.0875, -0.2612,  0.1635]],\n",
      "       grad_fn=<AddmmBackward>)\n"
     ]
    }
   ],
   "source": [
    "# CoverNet outputs a probability distribution over the trajectory set.\n",
    "# These are the logits of the probabilities\n",
    "logits = covernet(image_tensor, agent_state_vector)#CoverNet输出轨迹集上的概率（的对数）分布，不过这里应该是还没训练吧。\n",
    "print(logits)"
   ]
  },
  {
   "cell_type": "markdown",
   "metadata": {},
   "source": [
    "The CoverNet model outputs a probability distribution over a set of trajectories. To be able to interpret the predictions, and perform inference with CoverNet, you need to download the trajectory sets from the nuscenes website. Download them from this [link](https://www.nuscenes.org/public/nuscenes-prediction-challenge-trajectory-sets.zip) and unzip them in a directory of your choice.\n",
    "\n",
    "Uncomment the following code when you do so:"
   ]
  },
  {
   "cell_type": "code",
   "execution_count": 32,
   "metadata": {
    "scrolled": true
   },
   "outputs": [
    {
     "data": {
      "text/plain": [
       "tensor([[[[ 4.4409e-16,  3.0827e+00],\n",
       "          [-1.0750e-01,  6.9191e+00],\n",
       "          [-1.4924e-01,  1.0373e+01],\n",
       "          ...,\n",
       "          [-2.2910e+00,  3.5521e+01],\n",
       "          [-2.5818e+00,  3.9967e+01],\n",
       "          [-2.8454e+00,  4.3923e+01]],\n",
       "\n",
       "         [[-3.6286e-04,  4.2632e+00],\n",
       "          [-7.4217e-02,  8.1147e+00],\n",
       "          [-2.4705e-01,  1.1966e+01],\n",
       "          ...,\n",
       "          [-7.0907e+00,  4.3550e+01],\n",
       "          [-7.7999e+00,  4.5387e+01],\n",
       "          [-9.0104e+00,  4.8853e+01]],\n",
       "\n",
       "         [[ 1.8677e-01,  2.0907e+00],\n",
       "          [ 7.7554e-01,  4.1131e+00],\n",
       "          [ 1.8086e+00,  6.1398e+00],\n",
       "          ...,\n",
       "          [ 1.9723e+01,  1.6927e+01],\n",
       "          [ 2.2943e+01,  1.8003e+01],\n",
       "          [ 2.6375e+01,  1.9147e+01]],\n",
       "\n",
       "         ...,\n",
       "\n",
       "         [[ 3.8694e-02,  9.1870e+00],\n",
       "          [ 4.6126e-02,  1.8185e+01],\n",
       "          [ 1.1367e-01,  2.6986e+01],\n",
       "          ...,\n",
       "          [ 1.3081e+00,  8.2762e+01],\n",
       "          [ 1.5751e+00,  9.1043e+01],\n",
       "          [ 1.9204e+00,  9.9413e+01]],\n",
       "\n",
       "         [[-1.5274e-04,  5.4443e+00],\n",
       "          [ 2.8397e-04,  1.0888e+01],\n",
       "          [ 4.3671e-04,  1.6325e+01],\n",
       "          ...,\n",
       "          [ 1.8303e-01,  2.5879e+01],\n",
       "          [ 1.8517e-01,  2.5920e+01],\n",
       "          [ 1.8790e-01,  2.5960e+01]],\n",
       "\n",
       "         [[-5.7996e-03,  9.8641e-01],\n",
       "          [-1.0927e-02,  1.9721e+00],\n",
       "          [ 4.3416e-02,  4.2129e+00],\n",
       "          ...,\n",
       "          [ 2.9417e-01,  3.7570e+01],\n",
       "          [ 2.5250e-01,  4.4689e+01],\n",
       "          [ 2.0330e-01,  5.2241e+01]]]])"
      ]
     },
     "execution_count": 32,
     "metadata": {},
     "output_type": "execute_result"
    }
   ],
   "source": [
    "# 有待进一步结合轨迹集尝试\n",
    "\n",
    "import pickle\n",
    "\n",
    "# Epsilon is the amount of coverage in the set, \n",
    "# i.e. a real world trajectory is at most 8 meters from a trajectory in this set\n",
    "# We released the set for epsilon = 2, 4, 8. Consult the paper for more information\n",
    "# on how this set was created\n",
    "\n",
    "# 三个数据文件用pickle打开后都是list形式：\n",
    "# epsilon_2.pkl内是2206*12*2；\n",
    "# epsilon_4.pkl内是415*12*2；\n",
    "# epsilon_8.pkl内是64*12*2\n",
    "\n",
    "\n",
    "PATH_TO_EPSILON_8_SET = \"/home/shao/Documents/GitHub/data/nuScenes/nuscenes-prediction-challenge-trajectory-sets/epsilon_8.pkl\"\n",
    "trajectories = pickle.load(open(PATH_TO_EPSILON_8_SET, 'rb'))\n",
    "\n",
    "# Saved them as a list of lists\n",
    "trajectories = torch.Tensor(trajectories)#貌似这里还没将这些轨迹与上述概率结合起来训练\n",
    "\n",
    "# print(trajectories[:5].shape)\n",
    "# print(logits.argsort(descending=True)[0][:5].shape)\n",
    "\n",
    "# Print 5 most likely predictions\n",
    "trajectories[logits.argsort(descending=True)[:5]]#[原始代码:这里logits是1*64的,提取[:5]还是1*64维的]\n",
    "trajectories[logits.argsort(descending=True)[:5]]#[修改代码:先降唯,再取前5个轨迹]"
   ]
  },
  {
   "cell_type": "markdown",
   "metadata": {},
   "source": [
    "We also provide two physics-based models - A constant velocity and heading model and a physics oracle. The physics oracle estimates the future trajectory of the agent with several physics based models and chooses the one that is closest to the ground truth. It represents the best performance a purely physics based model could achieve on the dataset."
   ]
  },
  {
   "cell_type": "code",
   "execution_count": 33,
   "metadata": {},
   "outputs": [],
   "source": [
    "from nuscenes.prediction.models.physics import ConstantVelocityHeading, PhysicsOracle\n",
    "\n",
    "cv_model = ConstantVelocityHeading(sec_from_now=6, helper=helper)\n",
    "physics_oracle = PhysicsOracle(sec_from_now=6, helper=helper)"
   ]
  },
  {
   "cell_type": "markdown",
   "metadata": {},
   "source": [
    "The physics models can be called as functions. They take as input a string of the instance and sample token of the agent concatenated with an underscore (\"_\").\n",
    "\n",
    "The output is a `Prediction` data type. The `Prediction` data type stores the predicted trajectories and their associated probabilities for the agent. We'll go over the `Prediction` type in greater detail in the next section."
   ]
  },
  {
   "cell_type": "code",
   "execution_count": 34,
   "metadata": {},
   "outputs": [
    {
     "data": {
      "text/plain": [
       "Prediction(instance=bc38961ca0ac4b14ab90e547ba79fbb6, sample=7626dde27d604ac28a0240bdd54eba7a, prediction=[[[ 388.17909232 1136.96919062]\n",
       "  [ 387.06818463 1134.47838124]\n",
       "  [ 385.95727695 1131.98757186]\n",
       "  [ 384.84636926 1129.49676248]\n",
       "  [ 383.73546158 1127.0059531 ]\n",
       "  [ 382.6245539  1124.51514372]\n",
       "  [ 381.51364621 1122.02433435]\n",
       "  [ 380.40273853 1119.53352497]\n",
       "  [ 379.29183084 1117.04271559]\n",
       "  [ 378.18092316 1114.55190621]\n",
       "  [ 377.07001548 1112.06109683]\n",
       "  [ 375.95910779 1109.57028745]]], probabilities=[1])"
      ]
     },
     "execution_count": 34,
     "metadata": {},
     "output_type": "execute_result"
    }
   ],
   "source": [
    "cv_model(f\"{instance_token_img}_{sample_token_img}\")#用CV模型进行预测（单条轨迹）\n",
    "# print(f\"{instance_token_img}_{sample_token_img}\")"
   ]
  },
  {
   "cell_type": "code",
   "execution_count": 35,
   "metadata": {},
   "outputs": [
    {
     "data": {
      "text/plain": [
       "Prediction(instance=bc38961ca0ac4b14ab90e547ba79fbb6, sample=7626dde27d604ac28a0240bdd54eba7a, prediction=[[[ 388.17909232 1136.96919062]\n",
       "  [ 387.06818463 1134.47838124]\n",
       "  [ 385.95727695 1131.98757186]\n",
       "  [ 384.84636926 1129.49676248]\n",
       "  [ 383.73546158 1127.0059531 ]\n",
       "  [ 382.6245539  1124.51514372]\n",
       "  [ 381.51364621 1122.02433435]\n",
       "  [ 380.40273853 1119.53352497]\n",
       "  [ 379.29183084 1117.04271559]\n",
       "  [ 378.18092316 1114.55190621]\n",
       "  [ 377.07001548 1112.06109683]\n",
       "  [ 375.95910779 1109.57028745]]], probabilities=[1])"
      ]
     },
     "execution_count": 35,
     "metadata": {},
     "output_type": "execute_result"
    }
   ],
   "source": [
    "physics_oracle(f\"{instance_token_img}_{sample_token_img}\")#同物理oracle模型进行预测（单条轨迹）"
   ]
  },
  {
   "cell_type": "markdown",
   "metadata": {},
   "source": [
    "## 6. Making a submission to the challenge\n",
    "\n",
    "Participants must submit a zipped json file containing serialized `Predictions` for each agent in the validation set.\n",
    "\n",
    "The previous section introduced the `Prediction` data type. In this section, we explain the format in greater detail. \n",
    "\n",
    "A `Prediction` consists of four fields:\n",
    "\n",
    "1. instance: The instance token for the agent.\n",
    "2. sample: The sample token for the agent.\n",
    "3. prediction: Prediction from model. A prediction can consist of up to 25 proposed trajectories. This field must be a numpy array with three dimensions (number of trajectories (also called modes), number of timesteps, 2).\n",
    "4. probabilities: The probability corresponding to each predicted mode. This is a numpy array with shape `(number_of_modes,)`.\n",
    "\n",
    "You will get an error if any of these conditions are violated."
   ]
  },
  {
   "cell_type": "code",
   "execution_count": 36,
   "metadata": {},
   "outputs": [],
   "source": [
    "from nuscenes.eval.prediction.data_classes import Prediction#Prediction是一个类，用于存储预测比赛所需内容\n",
    "import numpy as np"
   ]
  },
  {
   "cell_type": "code",
   "execution_count": 38,
   "metadata": {},
   "outputs": [],
   "source": [
    "# This would raise an error because instance is not a string.\n",
    "\n",
    "# Prediction(instance=1, sample=sample_token_img,\n",
    "#           prediction=np.ones((1, 12, 2)), probabilities=np.array([1]))"
   ]
  },
  {
   "cell_type": "code",
   "execution_count": 39,
   "metadata": {},
   "outputs": [],
   "source": [
    "# This would raise an error because sample is not a string.\n",
    "\n",
    "#Prediction(instance=instance_token_img, sample=2,\n",
    "#           prediction=np.ones((1, 12, 2)), probabilities=np.array([1]))"
   ]
  },
  {
   "cell_type": "code",
   "execution_count": 40,
   "metadata": {},
   "outputs": [],
   "source": [
    "# This would raise an error because prediction is not a numpy array.\n",
    "\n",
    "#Prediction(instance=instance_token_img, sample=sample_token_img,\n",
    "#           prediction=np.ones((1, 12, 2)).tolist(), probabilities=np.array([1]))"
   ]
  },
  {
   "cell_type": "code",
   "execution_count": 41,
   "metadata": {},
   "outputs": [],
   "source": [
    "# This would throw an error because probabilities is not a numpy array. Uncomment to see.\n",
    "\n",
    "#Prediction(instance=instance_token_img, sample=sample_token_img,\n",
    "#           prediction=np.ones((1, 12, 2)), probabilities=[0.3])"
   ]
  },
  {
   "cell_type": "code",
   "execution_count": 42,
   "metadata": {},
   "outputs": [],
   "source": [
    "# This would throw an error because there are more than 25 predicted modes. Uncomment to see.\n",
    "\n",
    "#Prediction(instance=instance_token_img, sample=sample_token_img,\n",
    "#           prediction=np.ones((30, 12, 2)), probabilities=np.array([1/30]*30))"
   ]
  },
  {
   "cell_type": "code",
   "execution_count": 43,
   "metadata": {},
   "outputs": [],
   "source": [
    "# This would throw an error because the number of predictions and probabilities don't match. Uncomment to see.\n",
    "\n",
    "#Prediction(instance=instance_token_img, sample=sample_token_img,\n",
    "           #prediction=np.ones((13, 12, 2)), probabilities=np.array([1/12]*12))"
   ]
  },
  {
   "cell_type": "markdown",
   "metadata": {},
   "source": [
    "To make a submission to the challenge, store your model predictions in a python list and save it to json. Then, upload a zipped version of your file to the eval server. \n",
    "\n",
    "For an example, see `eval/prediction/baseline_model_inference.py`"
   ]
  }
 ],
 "metadata": {
  "kernelspec": {
   "display_name": "nuscenes",
   "language": "python",
   "name": "nuscenes"
  },
  "language_info": {
   "codemirror_mode": {
    "name": "ipython",
    "version": 3
   },
   "file_extension": ".py",
   "mimetype": "text/x-python",
   "name": "python",
   "nbconvert_exporter": "python",
   "pygments_lexer": "ipython3",
   "version": "3.7.10"
  }
 },
 "nbformat": 4,
 "nbformat_minor": 4
}
