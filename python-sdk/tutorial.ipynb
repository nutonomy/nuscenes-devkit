{
 "cells": [
  {
   "cell_type": "markdown",
   "metadata": {},
   "source": [
    "# nuScenes devkit tutorial\n",
    "\n",
    "Welcome to the nuScenes tutorial. Make sure you have the nuScenes DB schema available.\n",
    "\n",
    "This demo assumes the database itself is available at `/data/nuscenes`"
   ]
  },
  {
   "cell_type": "code",
   "execution_count": 1,
   "metadata": {
    "scrolled": false
   },
   "outputs": [
    {
     "name": "stdout",
     "output_type": "stream",
     "text": [
      "======\n",
      "Loading NuScenes tables for version v0.2 ...\n",
      "23 category,\n",
      "8 attribute,\n",
      "5 visibility,\n",
      "48908 instance,\n",
      "12 sensor,\n",
      "6972 calibrated_sensor,\n",
      "57 log,\n",
      "581 scene,\n",
      "23225 sample,\n",
      "8 map,\n",
      "Done loading in 1.5 seconds.\n",
      "======\n",
      "Reverse indexing ...\n",
      "Done reverse indexing in 0.4 seconds.\n",
      "======\n"
     ]
    }
   ],
   "source": [
    "# Let's start by initializing the database\n",
    "%matplotlib inline\n",
    "from nuscenes.nuscenes import NuScenes\n",
    "\n",
    "nusc = NuScenes(version='v0.2', dataroot='/data/sets/nuscenes-v0.2', verbose=True)"
   ]
  },
  {
   "cell_type": "markdown",
   "metadata": {},
   "source": [
    "## NuScenes Basics"
   ]
  },
  {
   "cell_type": "code",
   "execution_count": 2,
   "metadata": {},
   "outputs": [
    {
     "data": {
      "text/plain": [
       "{'token': '1fa93b757fc74fb197cdd60001ad8abf',\n",
       " 'name': 'human.pedestrian.adult',\n",
       " 'description': 'Adult subcategory.'}"
      ]
     },
     "execution_count": 2,
     "metadata": {},
     "output_type": "execute_result"
    }
   ],
   "source": [
    "# The NuScenes class holds several tables. Each table is a list of records, and each record is a dictionary. \n",
    "# For example the first record of the category table is stored at\n",
    "nusc.category[0]"
   ]
  },
  {
   "cell_type": "code",
   "execution_count": 3,
   "metadata": {},
   "outputs": [
    {
     "data": {
      "text/plain": [
       "{'token': '1fa93b757fc74fb197cdd60001ad8abf',\n",
       " 'name': 'human.pedestrian.adult',\n",
       " 'description': 'Adult subcategory.'}"
      ]
     },
     "execution_count": 3,
     "metadata": {},
     "output_type": "execute_result"
    }
   ],
   "source": [
    "# The category table is simple: it just holds fields `name` and `description`. In addition it also has a `token` \n",
    "# field, which is a unique record identifier. Since the record is a dictionary, the token can be accessed like so:\n",
    "cat_token = nusc.category[0]['token']\n",
    "\n",
    "# If you know the token for any record in the DB you can retrieve the record by doing\n",
    "nusc.get('category', cat_token)"
   ]
  },
  {
   "cell_type": "code",
   "execution_count": 4,
   "metadata": {},
   "outputs": [],
   "source": [
    "# As you notice, we have now recovered the same record!"
   ]
  },
  {
   "cell_type": "code",
   "execution_count": 5,
   "metadata": {},
   "outputs": [
    {
     "data": {
      "text/plain": [
       "{'token': '4cfd87634ae24097abf5ce3475ce532c',\n",
       " 'sample_token': 'f9878012c3f6412184c294c13ba4bac3',\n",
       " 'ego_pose_token': '4cfd87634ae24097abf5ce3475ce532c',\n",
       " 'calibrated_sensor_token': 'db76cb0b23884ba4ad1a861593b667b6',\n",
       " 'timestamp': 1526915243042374,\n",
       " 'fileformat': 'pcd',\n",
       " 'is_key_frame': True,\n",
       " 'height': 0,\n",
       " 'width': 0,\n",
       " 'filename': 'samples/RADAR_FRONT/n008-2018-05-21-11-06-59-0400__RADAR_FRONT__1526915243042374.pcd',\n",
       " 'prev': '',\n",
       " 'next': '53c65b80ae5d4fcd9acfbd0262429a6b',\n",
       " 'sensor_modality': 'radar',\n",
       " 'channel': 'RADAR_FRONT'}"
      ]
     },
     "execution_count": 5,
     "metadata": {},
     "output_type": "execute_result"
    }
   ],
   "source": [
    "# OK, that was pretty easy. Let's try something harder. Let's look at the sample_annotation table.\n",
    "nusc.sample_data[0]"
   ]
  },
  {
   "cell_type": "code",
   "execution_count": 6,
   "metadata": {},
   "outputs": [
    {
     "data": {
      "text/plain": [
       "{'description': 'visibility of whole object is between 60 and 80%',\n",
       " 'token': '3',\n",
       " 'level': 'v60-80'}"
      ]
     },
     "execution_count": 6,
     "metadata": {},
     "output_type": "execute_result"
    }
   ],
   "source": [
    "4# As you can see this also has a `token` field (they all do). In addition, it has several fields of the format [\n",
    "# a-z]*_token, e.g. instance_token. These are foreign keys in database speak, meaning they point to another table. \n",
    "# Using nusc.get() we can grab any of these in constant time. For example, let's look at the visibility record.\n",
    "nusc.get('visibility', nusc.sample_annotation[0]['visibility_token'])"
   ]
  },
  {
   "cell_type": "code",
   "execution_count": 7,
   "metadata": {},
   "outputs": [
    {
     "data": {
      "text/plain": [
       "{'token': '61e592dd1f6443c4b0f11ff6a08ff2e7',\n",
       " 'category_token': '1fa93b757fc74fb197cdd60001ad8abf',\n",
       " 'nbr_annotations': 40,\n",
       " 'first_annotation_token': '8c41c6aa88bc45329e34d6a1a5687434',\n",
       " 'last_annotation_token': '9db3bab4ba634414ab21b1c46a09bd16'}"
      ]
     },
     "execution_count": 7,
     "metadata": {},
     "output_type": "execute_result"
    }
   ],
   "source": [
    "# The visibility records informs of how much of the object was visible when it was annotated.\n",
    "\n",
    "# Let's also grab the instance_token\n",
    "one_instance = nusc.get('instance', nusc.sample_annotation[0]['instance_token'])\n",
    "one_instance"
   ]
  },
  {
   "cell_type": "code",
   "execution_count": 8,
   "metadata": {},
   "outputs": [
    {
     "data": {
      "text/plain": [
       "{'06d945470e5f463cbaa77cd7f817655b',\n",
       " '0a333f9c217a4649a7dc3b798b234f2c',\n",
       " '0e6bde97a155427ba8a4d38fe802625a',\n",
       " '0f05b3aca73748359e573f8a6eb98522',\n",
       " '23bf35e605f84a0f9a20468519228b6a',\n",
       " '280b8f07434d400f8c792246524c87dc',\n",
       " '352d9323008a4cadbe81bf1160d45c0f',\n",
       " '3c8c3d74cfae4bb4978452e481b0b2b5',\n",
       " '3e5c8e77cf234a80947d55585cb82681',\n",
       " '5472bde14cfa414da905c74121a3d1ff',\n",
       " '59c0bb89f5214605a1dfd6cd2f9291fc',\n",
       " '5a4d1528a45a4561a783dd665c22b953',\n",
       " '666e1a0bfedd46378d40f91da2a8e3ee',\n",
       " '6683720bb047413eaf2c9708e2d2ec58',\n",
       " '6a06eaf6c05241d38f86e64296fdf042',\n",
       " '6a08d53553eb4a7c8eab402f07fc4623',\n",
       " '6cc9d2676f4e48a4820cfb9a4e414ca7',\n",
       " '6ec0054793a64bd68a8345302e2e625d',\n",
       " '7af21e48e66d4b0fb7a713340486a81e',\n",
       " '7dcd1235d0cd43f2b4db54200a0e0e09',\n",
       " '8b0eab0486ce417ead51cf685eb9c91a',\n",
       " '8c41c6aa88bc45329e34d6a1a5687434',\n",
       " '93b3fca817624054aabbeaa9add4f8fc',\n",
       " '93badddd24ed45868ebfb8cb776441d9',\n",
       " '96618fac54344b9c813a76d90ec743c1',\n",
       " '9c774f0997d64c37a7209487d460036a',\n",
       " '9db3bab4ba634414ab21b1c46a09bd16',\n",
       " 'a264d5c06990455d9b6fb6071e02a081',\n",
       " 'a99ab5ce16994e688366b5e7fa9db00a',\n",
       " 'b0d51a8fadd8488d883d36f418cb39f7',\n",
       " 'bf5093e8a851450eb50a6546e7220ab6',\n",
       " 'cb804941eab24722bb8ff95ea47bc414',\n",
       " 'ced371c1f476402ab80109c6b0681c8a',\n",
       " 'd2ec999c34c04f60aad837edd0dc3246',\n",
       " 'dec172216e114d9ba9290c594d6f8dfe',\n",
       " 'e6c1a17d19c54083b9223cb19041b49d',\n",
       " 'e73317f6c4dc4e35b4de51e9835da567',\n",
       " 'f384cb5afb384c38a6a038ddabd9b2b5',\n",
       " 'f57a352eb1534a5b9a559fb4dd3a0bda',\n",
       " 'fcd8ed84fa59417fb85ce364b227a63b'}"
      ]
     },
     "execution_count": 8,
     "metadata": {},
     "output_type": "execute_result"
    }
   ],
   "source": [
    "# This points to the instance table. This table enumerate the object _instances_ we have encountered in each \n",
    "# scene. This way we can connect all annotation of a particular object.\n",
    "\n",
    "# If you look carefully at the README tables, you will see that the sample_annotation table points to the object table, \n",
    "# but the object table doesn't list all annotations that point to it. \n",
    "\n",
    "# So how can we recover all sample_annotations for a particular object? There are two ways:\n",
    "\n",
    "# (1). Use nusc.field2token(). Let's try it:\n",
    "ann_tokens = nusc.field2token('sample_annotation', 'instance_token', one_instance['token'])\n",
    "\n",
    "# This returns a list of all sample_annotation records with the `instance_token` == one_instance['token'].\n",
    "# Let's store these in a set for now\n",
    "ann_tokens_field2token = set(ann_tokens)\n",
    "\n",
    "ann_tokens_field2token"
   ]
  },
  {
   "cell_type": "code",
   "execution_count": 9,
   "metadata": {},
   "outputs": [
    {
     "ename": "AssertionError",
     "evalue": "Table sample_annotation not found",
     "output_type": "error",
     "traceback": [
      "\u001b[0;31m---------------------------------------------------------------------------\u001b[0m",
      "\u001b[0;31mAssertionError\u001b[0m                            Traceback (most recent call last)",
      "\u001b[0;32m<ipython-input-9-b338183a9a3d>\u001b[0m in \u001b[0;36m<module>\u001b[0;34m\u001b[0m\n\u001b[1;32m      4\u001b[0m \u001b[0;31m# The instance record has a field `first_annotation_token` which points to the first annotation in time of this\u001b[0m\u001b[0;34m\u001b[0m\u001b[0;34m\u001b[0m\u001b[0;34m\u001b[0m\u001b[0m\n\u001b[1;32m      5\u001b[0m \u001b[0;31m# instance. Recovering this record is easy.\u001b[0m\u001b[0;34m\u001b[0m\u001b[0;34m\u001b[0m\u001b[0;34m\u001b[0m\u001b[0m\n\u001b[0;32m----> 6\u001b[0;31m \u001b[0mann_record\u001b[0m \u001b[0;34m=\u001b[0m \u001b[0mnusc\u001b[0m\u001b[0;34m.\u001b[0m\u001b[0mget\u001b[0m\u001b[0;34m(\u001b[0m\u001b[0;34m'sample_annotation'\u001b[0m\u001b[0;34m,\u001b[0m \u001b[0mone_instance\u001b[0m\u001b[0;34m[\u001b[0m\u001b[0;34m'first_annotation_token'\u001b[0m\u001b[0;34m]\u001b[0m\u001b[0;34m)\u001b[0m\u001b[0;34m\u001b[0m\u001b[0;34m\u001b[0m\u001b[0m\n\u001b[0m\u001b[1;32m      7\u001b[0m \u001b[0mann_record\u001b[0m\u001b[0;34m\u001b[0m\u001b[0;34m\u001b[0m\u001b[0m\n",
      "\u001b[0;32m~/nuscenes-devkit/python-sdk/nuscenes/nuscenes.py\u001b[0m in \u001b[0;36mget\u001b[0;34m(self, table_name, token)\u001b[0m\n\u001b[1;32m    185\u001b[0m         \u001b[0;34m:\u001b[0m\u001b[0;32mreturn\u001b[0m\u001b[0;34m:\u001b[0m \u001b[0mTable\u001b[0m \u001b[0mrecord\u001b[0m\u001b[0;34m.\u001b[0m \u001b[0mSee\u001b[0m \u001b[0mREADME\u001b[0m\u001b[0;34m.\u001b[0m\u001b[0mmd\u001b[0m \u001b[0;32mfor\u001b[0m \u001b[0mrecord\u001b[0m \u001b[0mdetails\u001b[0m \u001b[0;32mfor\u001b[0m \u001b[0meach\u001b[0m \u001b[0mtable\u001b[0m\u001b[0;34m.\u001b[0m\u001b[0;34m\u001b[0m\u001b[0;34m\u001b[0m\u001b[0m\n\u001b[1;32m    186\u001b[0m         \"\"\"\n\u001b[0;32m--> 187\u001b[0;31m         \u001b[0;32massert\u001b[0m \u001b[0mtable_name\u001b[0m \u001b[0;32min\u001b[0m \u001b[0mself\u001b[0m\u001b[0;34m.\u001b[0m\u001b[0mtable_names\u001b[0m\u001b[0;34m,\u001b[0m \u001b[0;34m\"Table {} not found\"\u001b[0m\u001b[0;34m.\u001b[0m\u001b[0mformat\u001b[0m\u001b[0;34m(\u001b[0m\u001b[0mtable_name\u001b[0m\u001b[0;34m)\u001b[0m\u001b[0;34m\u001b[0m\u001b[0;34m\u001b[0m\u001b[0m\n\u001b[0m\u001b[1;32m    188\u001b[0m \u001b[0;34m\u001b[0m\u001b[0m\n\u001b[1;32m    189\u001b[0m         \u001b[0;32mreturn\u001b[0m \u001b[0mself\u001b[0m\u001b[0;34m.\u001b[0m\u001b[0m__getattribute__\u001b[0m\u001b[0;34m(\u001b[0m\u001b[0mtable_name\u001b[0m\u001b[0;34m)\u001b[0m\u001b[0;34m[\u001b[0m\u001b[0mself\u001b[0m\u001b[0;34m.\u001b[0m\u001b[0mgetind\u001b[0m\u001b[0;34m(\u001b[0m\u001b[0mtable_name\u001b[0m\u001b[0;34m,\u001b[0m \u001b[0mtoken\u001b[0m\u001b[0;34m)\u001b[0m\u001b[0;34m]\u001b[0m\u001b[0;34m\u001b[0m\u001b[0;34m\u001b[0m\u001b[0m\n",
      "\u001b[0;31mAssertionError\u001b[0m: Table sample_annotation not found"
     ]
    }
   ],
   "source": [
    "# The nusc.field2token() method is generic and can be used in any similar situation.\n",
    "\n",
    "# (2) For certain situation, we provide some reverse indices in the tables themselves. This is one such example. \n",
    "# The instance record has a field `first_annotation_token` which points to the first annotation in time of this \n",
    "# instance. Recovering this record is easy.\n",
    "ann_record = nusc.get('sample_annotation', one_instance['first_annotation_token'])\n",
    "ann_record"
   ]
  },
  {
   "cell_type": "code",
   "execution_count": null,
   "metadata": {},
   "outputs": [],
   "source": [
    "# Now we can traverse all annotations of this instance using the \"next\" field. Let's try it. \n",
    "ann_tokens_traverse = set()\n",
    "ann_tokens_traverse.add(ann_record['token'])\n",
    "while not ann_record['next'] == \"\":\n",
    "    ann_record = nusc.get('sample_annotation', ann_record['next'])\n",
    "    ann_tokens_traverse.add(ann_record['token'])\n",
    "\n",
    "# Finally, let's assert that we recovered the same ann_records as we did using nusc.field2token:\n",
    "assert ann_tokens_traverse == ann_tokens_field2token"
   ]
  },
  {
   "cell_type": "markdown",
   "metadata": {},
   "source": [
    "## Reverse indexing and short-cuts\n",
    "\n",
    "The nuScenes tables are normalized, meaning that each piece of information is only given once.\n",
    "For example, there is one map record for each log record. Looking at the schema you will notice that the `map` table has a `log_token` field, but that the `log` table does not have a corresponding `map_token` field. But there are plenty of situations where you have a log, and want to find the corresponding map! So what to do? You can always use the `nusc.field2token()` method, but that is slow and inconvenient. We therefore add reverse mappings for some common situations including this one.\n",
    "\n",
    "Further, there are situations where one needs to go through several tables to get a certain piece of information. \n",
    "Consider, for example, the category name (e.g. `human.pedestrian`) of a `sample_annotation`. The `sample_annotation` table doesn't hold this information since the category is an instance level constant. Instead the `sample_annotation` table points to a record in the `instance` table. This, in turn, points to a record in the `category` table, where finally the `name` fields stores the required information. Since it is quite common to want to know the category name of an annotation, we add a `category_name` field to the `sample_annotation` table during initialization of the NuScenes class.\n",
    "\n",
    "In this section we list the short-cuts and reverse indices that are added to the `NuScenes` class during initialization. These are all created during in the `NuScenes.__make_reverse_index__()` method."
   ]
  },
  {
   "cell_type": "markdown",
   "metadata": {},
   "source": [
    "### Shortcuts"
   ]
  },
  {
   "cell_type": "code",
   "execution_count": null,
   "metadata": {},
   "outputs": [],
   "source": [
    "# The sample_annotation table has a \"category_name\" shortcut:\n",
    "catname = nusc.sample_annotation[0]['category_name']\n",
    "\n",
    "ann_rec = nusc.sample_annotation[0]\n",
    "inst_rec = nusc.get('instance', ann_rec['instance_token'])\n",
    "cat_rec = nusc.get('category', inst_rec['category_token'])\n",
    "print(catname == cat_rec['name'])"
   ]
  },
  {
   "cell_type": "code",
   "execution_count": null,
   "metadata": {},
   "outputs": [],
   "source": [
    "# The sample_data table has \"channel\" and \"sensor_modality\" shortcuts:\n",
    "channel = nusc.sample_data[0]['channel']\n",
    "\n",
    "sd_rec = nusc.sample_data[0]\n",
    "cs_record = nusc.get('calibrated_sensor', sd_rec['calibrated_sensor_token'])\n",
    "sensor_record = nusc.get('sensor', cs_record['sensor_token'])\n",
    "print(channel == sensor_record['channel'])"
   ]
  },
  {
   "cell_type": "markdown",
   "metadata": {},
   "source": [
    "### Reverse indices\n",
    "We add two reverse indices by default.\n",
    "* A `map_token` field is added to the `log` records.\n",
    "* The `sample` records have shortcuts to all `sample_annotations` for that record as well as `sample_data` key-frames. Confer `nusc.list_sample()` method in next section for more details on this."
   ]
  },
  {
   "cell_type": "markdown",
   "metadata": {},
   "source": [
    "## Data Visualizations\n",
    "\n",
    "We provide a set of list and rendering methods. These are meant both as convenience methods during development and as tutorials for building your own. They are implemented in the NuScenesExplorer class, with shortcuts through the NuScenes class itself."
   ]
  },
  {
   "cell_type": "markdown",
   "metadata": {},
   "source": [
    "### List methods\n",
    "There are three list methods availble to look at certain aspects of the DB."
   ]
  },
  {
   "cell_type": "code",
   "execution_count": null,
   "metadata": {},
   "outputs": [],
   "source": [
    "# list_categories() lists all categories, counts and statistics of width/length/height in meters and aspect ratio.\n",
    "nusc.list_categories()"
   ]
  },
  {
   "cell_type": "code",
   "execution_count": null,
   "metadata": {},
   "outputs": [],
   "source": [
    "# list_attributes() lists all attributes and counts.\n",
    "nusc.list_attributes()"
   ]
  },
  {
   "cell_type": "code",
   "execution_count": null,
   "metadata": {},
   "outputs": [],
   "source": [
    "# list_scenes() lists all scenes in the DB.\n",
    "nusc.list_scenes()"
   ]
  },
  {
   "cell_type": "code",
   "execution_count": null,
   "metadata": {},
   "outputs": [],
   "source": [
    "# list_sample() lists all related sample_data keyframes and annotation associated with a sample\n",
    "nusc.list_sample(nusc.sample[0]['token'])"
   ]
  },
  {
   "cell_type": "markdown",
   "metadata": {},
   "source": [
    "### Render"
   ]
  },
  {
   "cell_type": "code",
   "execution_count": null,
   "metadata": {},
   "outputs": [],
   "source": [
    "# First, let's plot a lidar point cloud in an image.\n",
    "# Lidar allows us to accurate map the surroundings in 3D.\n",
    "my_sample = nusc.sample[1300]\n",
    "nusc.render_pointcloud_in_image(my_sample['token'], pointsensor_channel='LIDAR_TOP')"
   ]
  },
  {
   "cell_type": "code",
   "execution_count": null,
   "metadata": {},
   "outputs": [],
   "source": [
    "# Second, let's plot the radar point cloud for the same image.\n",
    "# Radar is less dense than lidar, but has a much larger range.\n",
    "nusc.render_pointcloud_in_image(my_sample['token'], pointsensor_channel='RADAR_FRONT')"
   ]
  },
  {
   "cell_type": "code",
   "execution_count": null,
   "metadata": {
    "scrolled": false
   },
   "outputs": [],
   "source": [
    "# We can also plot all annotations across all sample data for that sample.\n",
    "# Note how for radar we also plot the velocity vectors of moving objects.\n",
    "# Some velocity vectors are outliers, which can be filtered using the settings in RadarPointCloud.from_file().\n",
    "my_sample = nusc.sample[2958]\n",
    "nusc.render_sample(my_sample['token'])"
   ]
  },
  {
   "cell_type": "code",
   "execution_count": null,
   "metadata": {},
   "outputs": [],
   "source": [
    "# Or if we only want to render a particular sensor, we can specify that.\n",
    "nusc.render_sample_data(my_sample['data']['CAM_FRONT'])"
   ]
  },
  {
   "cell_type": "code",
   "execution_count": null,
   "metadata": {},
   "outputs": [],
   "source": [
    "# Additionally we can aggregate the point clouds from multiple sweeps to get a denser point cloud.\n",
    "nusc.render_sample_data(my_sample['data']['LIDAR_TOP'], nsweeps=5)\n",
    "nusc.render_sample_data(my_sample['data']['RADAR_FRONT_RIGHT'], nsweeps=5)"
   ]
  },
  {
   "cell_type": "code",
   "execution_count": null,
   "metadata": {
    "scrolled": false
   },
   "outputs": [],
   "source": [
    "# We can even render a specific annotation.\n",
    "nusc.render_annotation(my_sample['anns'][22])"
   ]
  },
  {
   "cell_type": "code",
   "execution_count": null,
   "metadata": {},
   "outputs": [],
   "source": [
    "# Finally, we can render a full scene as a video. There are two options here. \n",
    "# (1) nusc.render_scene_channel() renders the video for a particular channel. (HIT ESC to exit)\n",
    "# (2) nusc.render_scene() renders the video for all camera channels.\n",
    "# NOTE: These methods use OpenCV for rendering, which doesn't always play nice with IPython Notebooks. \n",
    "# If you experience any issues please run these lines from the command line. \n",
    "\n",
    "# Let's grab scene 0043, it is nice and dense.\n",
    "my_scene_token = nusc.field2token('scene', 'name', 'scene-0043')[0]\n",
    "nusc.render_scene_channel(my_scene_token, 'CAM_FRONT')"
   ]
  },
  {
   "cell_type": "code",
   "execution_count": null,
   "metadata": {},
   "outputs": [],
   "source": [
    "# There is also a method nusc.render_scene() which renders the video for all camera channels. \n",
    "# This requires a high-res monitor, and is also best run outside this notebook.\n",
    "nusc.render_scene(my_scene_token)"
   ]
  },
  {
   "cell_type": "code",
   "execution_count": null,
   "metadata": {},
   "outputs": [],
   "source": [
    "# Finally, let us visualize all scenes on the map for a particular location.\n",
    "nusc.render_egoposes_on_map(log_location='boston-seaport')"
   ]
  },
  {
   "cell_type": "code",
   "execution_count": null,
   "metadata": {},
   "outputs": [],
   "source": []
  }
 ],
 "metadata": {
  "kernelspec": {
   "display_name": "Python 3",
   "language": "python",
   "name": "python3"
  },
  "language_info": {
   "codemirror_mode": {
    "name": "ipython",
    "version": 3
   },
   "file_extension": ".py",
   "mimetype": "text/x-python",
   "name": "python",
   "nbconvert_exporter": "python",
   "pygments_lexer": "ipython3",
   "version": "3.7.1"
  }
 },
 "nbformat": 4,
 "nbformat_minor": 1
}
