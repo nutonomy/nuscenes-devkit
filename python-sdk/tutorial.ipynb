{
 "cells": [
  {
   "cell_type": "markdown",
   "metadata": {},
   "source": [
    "# nuScenes devkit tutorial\n",
    "\n",
    "Welcome to the nuScenes tutorial. Make sure you have the nuScenes DB schema available.\n",
    "\n",
    "This demo assumes the database itself is available at `/data/nuscenes`"
   ]
  },
  {
   "cell_type": "code",
   "execution_count": null,
   "metadata": {},
   "outputs": [],
   "source": [
    "# Let's start by initializing the database\n",
    "%matplotlib inline\n",
    "from nuscenes.nuscenes import NuScenes\n",
    "\n",
    "nusc = NuScenes(version='v0.5', dataroot='/data/nuscenes', verbose=True)"
   ]
  },
  {
   "cell_type": "markdown",
   "metadata": {},
   "source": [
    "## NuScenes Basics"
   ]
  },
  {
   "cell_type": "code",
   "execution_count": null,
   "metadata": {},
   "outputs": [],
   "source": [
    "# The NuScenes class holds several tables. Each table is a list of records, and each record is a dictionary. \n",
    "# For example the first record of the category table is stored at\n",
    "nusc.category[0]"
   ]
  },
  {
   "cell_type": "code",
   "execution_count": null,
   "metadata": {},
   "outputs": [],
   "source": [
    "# The category table is simple: it just holds fields `name` and `description`. In addition it also has a `token` \n",
    "# field, which is a unique record identifier. Since the record is a dictionary, the token can be accessed like so:\n",
    "cat_token = nusc.category[0]['token']\n",
    "\n",
    "# If you know the token for any record in the DB you can retrieve the record by doing\n",
    "nusc.get('category', cat_token)"
   ]
  },
  {
   "cell_type": "code",
   "execution_count": null,
   "metadata": {},
   "outputs": [],
   "source": [
    "# As you notice, we have now recovered the same record!"
   ]
  },
  {
   "cell_type": "code",
   "execution_count": null,
   "metadata": {},
   "outputs": [],
   "source": [
    "# OK, that was pretty easy. Let's try something harder. Let's look at the sample_annotation table.\n",
    "nusc.sample_annotation[0]"
   ]
  },
  {
   "cell_type": "code",
   "execution_count": null,
   "metadata": {},
   "outputs": [],
   "source": [
    "# As you can see this also has a `token` field (they all do). In addition, it has several fields of the format [\n",
    "# a-z]*_token, e.g. instance_token. These are foreign keys in database speak, meaning they point to another table. \n",
    "# Using nusc.get() we can grab any of these in constant time. For example, let's look at the visibility record.\n",
    "nusc.get('visibility', nusc.sample_annotation[0]['visibility_token'])"
   ]
  },
  {
   "cell_type": "code",
   "execution_count": null,
   "metadata": {},
   "outputs": [],
   "source": [
    "# The visibility records informs of how much of the object was visible when it was annotated.\n",
    "\n",
    "# Let's also grab the instance_token\n",
    "one_instance = nusc.get('instance', nusc.sample_annotation[0]['instance_token'])\n",
    "one_instance"
   ]
  },
  {
   "cell_type": "code",
   "execution_count": null,
   "metadata": {},
   "outputs": [],
   "source": [
    "# This points to the instance table. This table enumerate the object _instances_ we have encountered in each \n",
    "# scene. This way we can connect all annotation of a particular object.\n",
    "\n",
    "# If you look carefully at the README tables, you will see that the sample_annotation table points to the object table, \n",
    "# but the object table doesn't list all annotations that point to it. \n",
    "\n",
    "# So how can we recover all sample_annotations for a particular object? There are two ways:\n",
    "\n",
    "# (1). Use nusc.field2token(). Let's try it:\n",
    "ann_tokens = nusc.field2token('sample_annotation', 'instance_token', one_instance['token'])\n",
    "\n",
    "# This returns a list of all sample_annotation records with the `instance_token` == one_instance['token'].\n",
    "# Let's store these in a set for now\n",
    "ann_tokens_field2token = set(ann_tokens)\n",
    "\n",
    "ann_tokens_field2token"
   ]
  },
  {
   "cell_type": "code",
   "execution_count": null,
   "metadata": {},
   "outputs": [],
   "source": [
    "# The nusc.field2token() method is generic and can be used in any similar situation.\n",
    "\n",
    "# (2) For certain situation, we provide some reverse indices in the tables themselves. This is one such example. \n",
    "# The instance record has a field `first_annotation_token` which points to the first annotation in time of this \n",
    "# instance. Recovering this record is easy.\n",
    "ann_record = nusc.get('sample_annotation', one_instance['first_annotation_token'])\n",
    "ann_record"
   ]
  },
  {
   "cell_type": "code",
   "execution_count": null,
   "metadata": {},
   "outputs": [],
   "source": [
    "# Now we can traverse all annotations of this instance using the \"next\" field. Let's try it. \n",
    "ann_tokens_traverse = set()\n",
    "ann_tokens_traverse.add(ann_record['token'])\n",
    "while not ann_record['next'] == \"\":\n",
    "    ann_record = nusc.get('sample_annotation', ann_record['next'])\n",
    "    ann_tokens_traverse.add(ann_record['token'])\n",
    "\n",
    "# Finally, let's assert that we recovered the same ann_records as we did using nusc.field2token:\n",
    "assert ann_tokens_traverse == ann_tokens_field2token"
   ]
  },
  {
   "cell_type": "markdown",
   "metadata": {},
   "source": [
    "## Reverse indexing and short-cuts\n",
    "\n",
    "The nuScenes tables are normalized, meaning that each piece of information is only given once.\n",
    "For example, there is one map record for each log record. Looking at the schema you will notice that the `map` table has a `log_token` field, but that the `log` table does not have a corresponding `map_token` field. But there are plenty of situations where you have a log, and want to find the corresponding map! So what to do? You can always use the `nusc.field2token()` method, but that is slow and inconvenient. We therefore add reverse mappings for some common situations including this one.\n",
    "\n",
    "Further, there are situations where one needs to go through several tables to get a certain piece of information. \n",
    "Consider, for example, the category name (e.g. `human.pedestrian`) of a `sample_annotation`. The `sample_annotation` table doesn't hold this information since the category is an instance level constant. Instead the `sample_annotation` table points to a record in the `instance` table. This, in turn, points to a record in the `category` table, where finally the `name` fields stores the required information. Since it is quite common to want to know the category name of an annotation, we add a `category_name` field to the `sample_annotation` table during initialization of the NuScenes class.\n",
    "\n",
    "In this section we list the short-cuts and reverse indices that are added to the `NuScenes` class during initialization. These are all created during in the `NuScenes.__make_reverse_index__()` method."
   ]
  },
  {
   "cell_type": "markdown",
   "metadata": {},
   "source": [
    "### Shortcuts"
   ]
  },
  {
   "cell_type": "code",
   "execution_count": null,
   "metadata": {},
   "outputs": [],
   "source": [
    "# The sample_annotation table has a \"category_name\" shortcut:\n",
    "catname = nusc.sample_annotation[0]['category_name']\n",
    "\n",
    "ann_rec = nusc.sample_annotation[0]\n",
    "inst_rec = nusc.get('instance', ann_rec['instance_token'])\n",
    "cat_rec = nusc.get('category', inst_rec['category_token'])\n",
    "print(catname == cat_rec['name'])"
   ]
  },
  {
   "cell_type": "code",
   "execution_count": null,
   "metadata": {},
   "outputs": [],
   "source": [
    "# The sample_data table has \"channel\" and \"sensor_modality\" shortcuts:\n",
    "channel = nusc.sample_data[0]['channel']\n",
    "\n",
    "sd_rec = nusc.sample_data[0]\n",
    "cs_record = nusc.get('calibrated_sensor', sd_rec['calibrated_sensor_token'])\n",
    "sensor_record = nusc.get('sensor', cs_record['sensor_token'])\n",
    "print(channel == sensor_record['channel'])"
   ]
  },
  {
   "cell_type": "markdown",
   "metadata": {},
   "source": [
    "### Reverse indices\n",
    "We add two reverse indices by default.\n",
    "* A `map_token` field is added to the `log` records.\n",
    "* The `sample` records have shortcuts to all `sample_annotations` for that record as well as `sample_data` key-frames. Confer `nusc.list_sample()` method in next section for more details on this."
   ]
  },
  {
   "cell_type": "markdown",
   "metadata": {},
   "source": [
    "## Data Visualizations\n",
    "\n",
    "We provide a set of list and rendering methods. These are meant both as convenience methods during development and as tutorials for building your own. They are implemented in the NuScenesExplorer class, with shortcuts through the NuScenes class itself."
   ]
  },
  {
   "cell_type": "markdown",
   "metadata": {},
   "source": [
    "### List methods\n",
    "There are three list methods availble to look at certain aspects of the DB."
   ]
  },
  {
   "cell_type": "code",
   "execution_count": null,
   "metadata": {},
   "outputs": [],
   "source": [
    "# list_categories() lists all categories, counts and statistics of width/length/height in meters and aspect ratio.\n",
    "nusc.list_categories()"
   ]
  },
  {
   "cell_type": "code",
   "execution_count": null,
   "metadata": {},
   "outputs": [],
   "source": [
    "# list_attributes() lists all attributes and counts.\n",
    "nusc.list_attributes()"
   ]
  },
  {
   "cell_type": "code",
   "execution_count": null,
   "metadata": {},
   "outputs": [],
   "source": [
    "# list_scenes() lists all scenes in the DB.\n",
    "nusc.list_scenes()"
   ]
  },
  {
   "cell_type": "code",
   "execution_count": null,
   "metadata": {},
   "outputs": [],
   "source": [
    "# list_sample() lists all related sample_data keyframes and annotation associated with a sample\n",
    "nusc.list_sample(nusc.sample[0]['token'])"
   ]
  },
  {
   "cell_type": "markdown",
   "metadata": {},
   "source": [
    "### Render"
   ]
  },
  {
   "cell_type": "code",
   "execution_count": null,
   "metadata": {},
   "outputs": [],
   "source": [
    "# First, let's plot a lidar point cloud in an image.\n",
    "# Lidar allows us to accurate map the surroundings in 3D.\n",
    "my_sample = nusc.sample[1300]\n",
    "nusc.render_pointcloud_in_image(my_sample['token'], pointsensor_channel='LIDAR_TOP')"
   ]
  },
  {
   "cell_type": "code",
   "execution_count": null,
   "metadata": {},
   "outputs": [],
   "source": [
    "# Second, let's plot the radar point cloud for the same image.\n",
    "# Radar is less dense than lidar, but has a much larger range.\n",
    "nusc.render_pointcloud_in_image(my_sample['token'], pointsensor_channel='RADAR_FRONT')"
   ]
  },
  {
   "cell_type": "code",
   "execution_count": null,
   "metadata": {},
   "outputs": [],
   "source": [
    "# We can also plot all annotations across all sample data for that sample.\n",
    "# Note how for radar we also plot the velocity vectors of moving objects.\n",
    "# Some velocity vectors are outliers, which can be filtered using the settings in RadarPointCloud.from_file().\n",
    "my_sample = nusc.sample[2958]\n",
    "nusc.render_sample(my_sample['token'])"
   ]
  },
  {
   "cell_type": "code",
   "execution_count": null,
   "metadata": {},
   "outputs": [],
   "source": [
    "# Or if we only want to render a particular sensor, we can specify that.\n",
    "nusc.render_sample_data(my_sample['data']['CAM_FRONT'])"
   ]
  },
  {
   "cell_type": "code",
   "execution_count": null,
   "metadata": {},
   "outputs": [],
   "source": [
    "# Additionally we can aggregate the point clouds from multiple sweeps to get a denser point cloud.\n",
    "nusc.render_sample_data(my_sample['data']['LIDAR_TOP'], nsweeps=5)\n",
    "nusc.render_sample_data(my_sample['data']['RADAR_FRONT_RIGHT'], nsweeps=5)"
   ]
  },
  {
   "cell_type": "code",
   "execution_count": null,
   "metadata": {},
   "outputs": [],
   "source": [
    "# We can even render a specific annotation.\n",
    "nusc.render_annotation(my_sample['anns'][22])"
   ]
  },
  {
   "cell_type": "code",
   "execution_count": null,
   "metadata": {},
   "outputs": [],
   "source": [
    "# Finally, we can render a full scene as a video. There are two options here. \n",
    "# (1) nusc.render_scene_channel() renders the video for a particular channel. (HIT ESC to exit)\n",
    "# (2) nusc.render_scene() renders the video for all camera channels.\n",
    "# NOTE: These methods use OpenCV for rendering, which doesn't always play nice with IPython Notebooks. \n",
    "# If you experience any issues please run these lines from the command line. \n",
    "\n",
    "# Let's grab scene 0043, it is nice and dense.\n",
    "my_scene_token = nusc.field2token('scene', 'name', 'scene-0043')[0]\n",
    "nusc.render_scene_channel(my_scene_token, 'CAM_FRONT')"
   ]
  },
  {
   "cell_type": "code",
   "execution_count": null,
   "metadata": {},
   "outputs": [],
   "source": [
    "# There is also a method nusc.render_scene() which renders the video for all camera channels. \n",
    "# This requires a high-res monitor, and is also best run outside this notebook.\n",
    "nusc.render_scene(my_scene_token)"
   ]
  },
  {
   "cell_type": "code",
   "execution_count": null,
   "metadata": {},
   "outputs": [],
   "source": [
    "# Finally, let us visualize all scenes on the map for a particular location.\n",
    "nusc.render_egoposes_on_map(log_location='singapore-onenorth')"
   ]
  },
  {
   "cell_type": "code",
   "execution_count": null,
   "metadata": {},
   "outputs": [],
   "source": []
  }
 ],
 "metadata": {
  "kernelspec": {
   "display_name": "Python 3",
   "language": "python",
   "name": "python3"
  },
  "language_info": {
   "codemirror_mode": {
    "name": "ipython",
    "version": 3
   },
   "file_extension": ".py",
   "mimetype": "text/x-python",
   "name": "python",
   "nbconvert_exporter": "python",
   "pygments_lexer": "ipython3",
   "version": "3.7.0"
  }
 },
 "nbformat": 4,
 "nbformat_minor": 1
}
